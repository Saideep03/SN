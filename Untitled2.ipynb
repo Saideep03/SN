{
  "nbformat": 4,
  "nbformat_minor": 0,
  "metadata": {
    "colab": {
      "provenance": [],
      "authorship_tag": "ABX9TyOtlYVxr/xQ5sRjnUzPuMQ8",
      "include_colab_link": true
    },
    "kernelspec": {
      "name": "python3",
      "display_name": "Python 3"
    },
    "language_info": {
      "name": "python"
    }
  },
  "cells": [
    {
      "cell_type": "markdown",
      "metadata": {
        "id": "view-in-github",
        "colab_type": "text"
      },
      "source": [
        "<a href=\"https://colab.research.google.com/github/Saideep03/SN/blob/main/Untitled2.ipynb\" target=\"_parent\"><img src=\"https://colab.research.google.com/assets/colab-badge.svg\" alt=\"Open In Colab\"/></a>"
      ]
    },
    {
      "cell_type": "code",
      "execution_count": 19,
      "metadata": {
        "id": "PNFButrKwZK5"
      },
      "outputs": [],
      "source": [
        "import numpy as np\n",
        "import tensorflow as tf\n",
        "from tensorflow.keras.models import Model\n",
        "from tensorflow.keras.layers import Input, LSTM, Dense, Embedding\n"
      ]
    },
    {
      "cell_type": "code",
      "source": [
        "# Example data (English to Hindi translation)\n",
        "# X: English sequences, y: Hindi sequences\n",
        "X = \"I love to eat pizza.\"  # English sequences\n",
        "y = \"मुझे पिज्जा खाना पसंद है\"  # Hindi sequences\n",
        "\n",
        "# Convert text sequences into numerical sequences (tokenization and padding not shown here)\n"
      ],
      "metadata": {
        "id": "tBn2TELFwlMx"
      },
      "execution_count": 20,
      "outputs": []
    },
    {
      "cell_type": "code",
      "source": [
        "from tensorflow.keras.preprocessing.text import Tokenizer\n",
        "from tensorflow.keras.preprocessing.sequence import pad_sequences\n",
        "\n",
        "# Tokenize input sequences (English)\n",
        "tokenizer_eng = Tokenizer()\n",
        "tokenizer_eng.fit_on_texts(X)\n",
        "X_seq = tokenizer_eng.texts_to_sequences(X)\n",
        "X_seq_padded = pad_sequences(X_seq, padding='post')\n",
        "\n",
        "# Tokenize output sequences (Hindi)\n",
        "tokenizer_hi = Tokenizer()\n",
        "tokenizer_hi.fit_on_texts(y)\n",
        "y_seq = tokenizer_hi.texts_to_sequences(y)\n",
        "y_seq_padded = pad_sequences(y_seq, padding='post')\n",
        "\n",
        "# Define vocabulary sizes\n",
        "num_encoder_tokens = len(tokenizer_eng.word_index) + 1\n",
        "num_decoder_tokens = len(tokenizer_hi.word_index) + 1\n"
      ],
      "metadata": {
        "id": "G2IzTyq1xOJM"
      },
      "execution_count": 21,
      "outputs": []
    },
    {
      "cell_type": "code",
      "source": [
        "# Define input sequences\n",
        "encoder_inputs = Input(shape=(None,))\n",
        "decoder_inputs = Input(shape=(None,))\n",
        "\n",
        "# Encoder LSTM\n",
        "encoder_embedding = Embedding(num_encoder_tokens, latent_dim)(encoder_inputs)\n",
        "encoder_lstm = LSTM(latent_dim, return_state=True)\n",
        "encoder_outputs, state_h, state_c = encoder_lstm(encoder_embedding)\n",
        "encoder_states = [state_h, state_c]\n",
        "\n",
        "# Decoder LSTM\n",
        "decoder_embedding = Embedding(num_decoder_tokens, latent_dim)(decoder_inputs)\n",
        "decoder_lstm = LSTM(latent_dim, return_sequences=True, return_state=True)\n",
        "decoder_outputs, _, _ = decoder_lstm(decoder_embedding, initial_state=encoder_states)\n",
        "\n",
        "# Dense layer for output\n",
        "decoder_dense = Dense(num_decoder_tokens, activation='softmax')\n",
        "decoder_outputs = decoder_dense(decoder_outputs)\n",
        "\n",
        "# Define the model\n",
        "model = Model([encoder_inputs, decoder_inputs], decoder_outputs)\n"
      ],
      "metadata": {
        "id": "YdHrV5T8xQbn"
      },
      "execution_count": 22,
      "outputs": []
    },
    {
      "source": [
        "# Define input sequences\n",
        "encoder_inputs = Input(shape=(None,))\n",
        "decoder_inputs = Input(shape=(None,))\n",
        "\n",
        "# Set the dimensionality of the embedding space\n",
        "latent_dim = 256  # You can adjust this value as needed\n",
        "\n",
        "# Encoder LSTM\n",
        "encoder_embedding = Embedding(num_encoder_tokens, latent_dim)(encoder_inputs)\n",
        "encoder_lstm = LSTM(latent_dim, return_state=True)\n",
        "encoder_outputs, state_h, state_c = encoder_lstm(encoder_embedding)\n",
        "encoder_states = [state_h, state_c]\n",
        "\n",
        "# Decoder LSTM\n",
        "decoder_embedding = Embedding(num_decoder_tokens, latent_dim)(decoder_inputs)\n",
        "decoder_lstm = LSTM(latent_dim, return_sequences=True, return_state=True)\n",
        "decoder_outputs, _, _ = decoder_lstm(decoder_embedding, initial_state=encoder_states)\n",
        "\n",
        "# Dense layer for output\n",
        "decoder_dense = Dense(num_decoder_tokens, activation='softmax')\n",
        "decoder_outputs = decoder_dense(decoder_outputs)\n",
        "\n",
        "# Define the model\n",
        "model = Model([encoder_inputs, decoder_inputs], decoder_outputs)"
      ],
      "cell_type": "code",
      "metadata": {
        "id": "xIxYy0-lx2CB"
      },
      "execution_count": 23,
      "outputs": []
    },
    {
      "source": [
        "!pip install scikit-learn\n",
        "from sklearn.model_selection import train_test_split # Import the missing function\n",
        "\n",
        "# Check the shape of the input arrays\n",
        "print(\"Shape of X_seq_padded:\", X_seq_padded.shape)\n",
        "print(\"Shape of y_seq_padded:\", y_seq_padded.shape)\n",
        "\n",
        "# Investigate why the number of samples differ and fix the issue.\n",
        "# ... Code to fix the data loading or preprocessing ...\n",
        "\n",
        "# Example: If you find extra samples in y_seq_padded, trim it:\n",
        "y_seq_padded = y_seq"
      ],
      "cell_type": "code",
      "metadata": {
        "colab": {
          "base_uri": "https://localhost:8080/"
        },
        "id": "IvdWgBiuzIj1",
        "outputId": "36be286b-d99b-446c-d523-eb149d1a6a6e"
      },
      "execution_count": 24,
      "outputs": [
        {
          "output_type": "stream",
          "name": "stdout",
          "text": [
            "Requirement already satisfied: scikit-learn in /usr/local/lib/python3.10/dist-packages (1.2.2)\n",
            "Requirement already satisfied: numpy>=1.17.3 in /usr/local/lib/python3.10/dist-packages (from scikit-learn) (1.25.2)\n",
            "Requirement already satisfied: scipy>=1.3.2 in /usr/local/lib/python3.10/dist-packages (from scikit-learn) (1.11.4)\n",
            "Requirement already satisfied: joblib>=1.1.1 in /usr/local/lib/python3.10/dist-packages (from scikit-learn) (1.4.2)\n",
            "Requirement already satisfied: threadpoolctl>=2.0.0 in /usr/local/lib/python3.10/dist-packages (from scikit-learn) (3.5.0)\n",
            "Shape of X_seq_padded: (20, 1)\n",
            "Shape of y_seq_padded: (24, 1)\n"
          ]
        }
      ]
    },
    {
      "cell_type": "code",
      "source": [
        "# Define inference models for encoder and decoder\n",
        "encoder_model = Model(encoder_inputs, encoder_states)\n",
        "\n",
        "decoder_state_input_h = Input(shape=(latent_dim,))\n",
        "decoder_state_input_c = Input(shape=(latent_dim,))\n",
        "decoder_states_inputs = [decoder_state_input_h, decoder_state_input_c]\n",
        "\n",
        "decoder_outputs, state_h, state_c = decoder_lstm(decoder_embedding, initial_state=decoder_states_inputs)\n",
        "decoder_states = [state_h, state_c]\n",
        "decoder_outputs = decoder_dense(decoder_outputs)\n",
        "\n",
        "decoder_model = Model(\n",
        "    [decoder_inputs] + decoder_states_inputs,\n",
        "    [decoder_outputs] + decoder_states\n",
        ")\n",
        "\n",
        "# Translate function\n",
        "def translate(input_seq):\n",
        "    states_value = encoder_model.predict(input_seq)\n",
        "\n",
        "    target_seq = np.zeros((1, 1))\n",
        "    target_seq[0, 0] = tokenizer_hi.word_index['<START>']\n",
        "\n",
        "    stop_condition = False\n",
        "    translated_sentence = ''\n",
        "    while not stop_condition:\n",
        "        output_tokens, h, c = decoder_model.predict([target_seq] + states_value)\n",
        "\n",
        "        sampled_token_index = np.argmax(output_tokens[0, -1, :])\n",
        "        sampled_token = tokenizer_hi.index_word[sampled_token_index]\n",
        "        translated_sentence += sampled_token + ' '\n",
        "\n",
        "        if (sampled_token == '<END>' or\n",
        "           len(translated_sentence.split()) > max_decoder_seq_length):\n",
        "            stop_condition = True\n",
        "\n",
        "        target_seq = np.zeros((1, 1))\n",
        "        target_seq[0, 0] = sampled_token_index\n",
        "\n",
        "        states_value = [h, c]\n",
        "\n",
        "    return translated_sentence\n"
      ],
      "metadata": {
        "id": "0FulEnA6zXAs"
      },
      "execution_count": 25,
      "outputs": []
    },
    {
      "cell_type": "code",
      "source": [],
      "metadata": {
        "id": "fjNNNNh8zZyp"
      },
      "execution_count": 25,
      "outputs": []
    }
  ]
}